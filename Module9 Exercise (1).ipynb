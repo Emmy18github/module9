{
 "cells": [
  {
   "cell_type": "markdown",
   "metadata": {},
   "source": [
    "### Exercise 1. \n",
    "Create a dictionary named pairs with key value pairs of:\n",
    "    - 'hello' and 'fire', \n",
    "    - 3 and 'seven', \n",
    "    - 'strong' and 45. \n",
    "\n",
    "Then, print out the dictionary."
   ]
  },
  {
   "cell_type": "code",
   "execution_count": 1,
   "metadata": {},
   "outputs": [
    {
     "name": "stdout",
     "output_type": "stream",
     "text": [
      "{'hello': 'fire', 3: 'seven', 'strong': 45}\n"
     ]
    }
   ],
   "source": [
    "pairs = {\"hello\": \"fire\",\n",
    "               3: \"seven\",\n",
    "        \"strong\": 45}\n",
    "print(pairs)"
   ]
  },
  {
   "cell_type": "markdown",
   "metadata": {},
   "source": [
    "### Exercise 2. \n",
    "Add 'welcome' and 56 pair into <b><i>pairs</i></b> dictionary from exercise 1. Then, print out the dictionary. "
   ]
  },
  {
   "cell_type": "code",
   "execution_count": 2,
   "metadata": {},
   "outputs": [
    {
     "name": "stdout",
     "output_type": "stream",
     "text": [
      "{'hello': 'fire', 3: 'seven', 'strong': 45, 'welcome': 56}\n"
     ]
    }
   ],
   "source": [
    "pairs[\"welcome\"] = 56\n",
    "print(pairs)"
   ]
  },
  {
   "cell_type": "markdown",
   "metadata": {},
   "source": [
    "### Exercise 3. \n",
    "Delete one item from <b><i>pairs</i></b> dictionary. Then, print deleted item and the dictionary."
   ]
  },
  {
   "cell_type": "code",
   "execution_count": 3,
   "metadata": {},
   "outputs": [
    {
     "name": "stdout",
     "output_type": "stream",
     "text": [
      "Deleted item     = ('welcome', 56)\n",
      "Pairs dictionary = {'hello': 'fire', 3: 'seven', 'strong': 45}\n"
     ]
    }
   ],
   "source": [
    "del_item = pairs.popitem()\n",
    "print(f\"Deleted item     = {del_item}\")\n",
    "print(f\"Pairs dictionary = {pairs}\")"
   ]
  },
  {
   "cell_type": "markdown",
   "metadata": {},
   "source": [
    "### Exercise 4. \n",
    "Print the value of an item where key is 3 in <b><i>pairs</i></b> dicitonary"
   ]
  },
  {
   "cell_type": "code",
   "execution_count": 4,
   "metadata": {},
   "outputs": [
    {
     "name": "stdout",
     "output_type": "stream",
     "text": [
      "Value of key 3 = seven\n"
     ]
    }
   ],
   "source": [
    "print(f\"Value of key 3 = {pairs[3]}\")"
   ]
  },
  {
   "cell_type": "markdown",
   "metadata": {},
   "source": [
    "### Exercise 5. \n",
    "Try to find out if the key called 'hello' exist in <b><i>pairs</i></b> dictionary. Print 'key is found' message if the key exists otherwise print 'key is not there'."
   ]
  },
  {
   "cell_type": "code",
   "execution_count": 5,
   "metadata": {},
   "outputs": [
    {
     "name": "stdout",
     "output_type": "stream",
     "text": [
      "\"hello\" key is found!\n"
     ]
    }
   ],
   "source": [
    "key = \"hello\"\n",
    "if key in pairs:\n",
    "    print(f\"\\\"{key}\\\" key is found!\")\n",
    "else:\n",
    "    print(f\"\\\"{key}\\\" key is not there.\")"
   ]
  },
  {
   "cell_type": "markdown",
   "metadata": {},
   "source": [
    "### Exercise 6. \n",
    "Create a Test Scores program that gets the name of students and test score from a user. Then, generate a list of students who passed and a list of students who failed where passing test score is 60 or above. "
   ]
  },
  {
   "cell_type": "code",
   "execution_count": 6,
   "metadata": {},
   "outputs": [
    {
     "name": "stdout",
     "output_type": "stream",
     "text": [
      "Please enter a student's name: Mickey Mouse\n",
      "Please enter the student's test score: 90\n",
      "Would you like to add more students? (y/n): y\n",
      "Please enter a student's name: Minnie Mouse\n",
      "Please enter the student's test score: 75\n",
      "Would you like to add more students? (y/n): y\n",
      "Please enter a student's name: Donald Duck\n",
      "Please enter the student's test score: 100\n",
      "Would you like to add more students? (y/n): y\n",
      "Please enter a student's name: Cinderella\n",
      "Please enter the student's test score: 55\n",
      "Would you like to add more students? (y/n): n\n",
      "\n",
      "Dictionary of all students = {'Mickey Mouse': 90, 'Minnie Mouse': 75, 'Donald Duck': 100, 'Cinderella': 55}\n",
      "Passing students           = ['Mickey Mouse', 'Minnie Mouse', 'Donald Duck']\n",
      "Failing students           = ['Cinderella']\n"
     ]
    }
   ],
   "source": [
    "test_scores = {}\n",
    "passed_students = []\n",
    "failed_students = []\n",
    "answer = \"y\"\n",
    "\n",
    "while answer != \"n\":\n",
    "    student_name = input(\"Please enter a student's name: \")\n",
    "    test_score = int(input(\"Please enter the student's test score: \"))\n",
    "    test_scores[student_name] = test_score\n",
    "    answer = input(\"Would you like to add more students? (y/n): \")\n",
    "\n",
    "#generate list of students passing or failing\n",
    "for key, value in test_scores.items():\n",
    "    if value >= 60:\n",
    "        passed_students.append(key)\n",
    "    else:\n",
    "        failed_students.append(key)\n",
    "\n",
    "print(f\"\\nDictionary of all students = {test_scores}\")        \n",
    "print(f\"Passing students           = {passed_students}\")\n",
    "print(f\"Failing students           = {failed_students}\")\n",
    "    "
   ]
  },
  {
   "cell_type": "markdown",
   "metadata": {},
   "source": [
    "### Exercise 7. \n",
    "\n",
    "Create a Word Counter program that gets a string of text from a user and then counts the number of times a word occrs in the string. \n",
    "\n",
    "The output should look something like this:\n",
    "\n",
    "    The Word Counter Program\n",
    "    \n",
    "    Enter a text string: \n",
    "    Humpty Dumpty sat on a wall, Humpty Dumpty had a great fall. All the king’s horses and all the king’s men couldn’t put Humpty together again.\n",
    "\n",
    "    a : 2\n",
    "    again : 1\n",
    "    all : 2\n",
    "    and : 1\n",
    "    couldn’t : 1\n",
    "    dumpty : 2\n",
    "    fall : 1\n",
    "    great : 1\n",
    "    had : 1\n",
    "    horses : 1\n",
    "    humpty : 3\n",
    "    king’s : 2\n",
    "    men : 1\n",
    "    on : 1\n",
    "    put : 1\n",
    "    sat : 1\n",
    "    the : 2\n",
    "    together : 1\n",
    "    wall : 1\n",
    "\n",
    "    There were total 26 words in the text string   "
   ]
  },
  {
   "cell_type": "code",
   "execution_count": 35,
   "metadata": {},
   "outputs": [
    {
     "name": "stdout",
     "output_type": "stream",
     "text": [
      "\n",
      "The Word Counter Program\n",
      "\n",
      "Please enter a text string: Humpty Dumpty sat on a wall, Humpty Dumpty had a great fall. All the king’s horses and all the king’s men couldn’t put Humpty together again.\n",
      "\n",
      "a : 2\n",
      "again : 1\n",
      "all : 2\n",
      "and : 1\n",
      "couldn’t : 1\n",
      "dumpty : 2\n",
      "fall : 1\n",
      "great : 1\n",
      "had : 1\n",
      "horses : 1\n",
      "humpty : 3\n",
      "king’s : 2\n",
      "men : 1\n",
      "on : 1\n",
      "put : 1\n",
      "sat : 1\n",
      "the : 2\n",
      "together : 1\n",
      "wall : 1\n",
      "\n",
      "There were a total of 26 words in the text string.\n",
      "\n"
     ]
    }
   ],
   "source": [
    "#Word Counter Program\n",
    "word_dict = {}\n",
    "word_list = []\n",
    "word_count = 0 \n",
    "\n",
    "print(\"\\nThe Word Counter Program\\n\")\n",
    "user_input = input(\"Please enter a text string: \").lower()\n",
    "user_input = user_input.replace(\".\", \"\")\n",
    "user_input = user_input.replace(\",\", \"\")\n",
    "word_list = user_input.split()\n",
    "word_list.sort()\n",
    "\n",
    "for word in word_list:\n",
    "    if word in word_dict:\n",
    "        word_dict[word] += 1\n",
    "    else:\n",
    "        word_dict[word] = 1\n",
    "\n",
    "print()\n",
    "for key, value in word_dict.items():\n",
    "    print(f\"{key} : {value}\")\n",
    "    word_count += value\n",
    "    \n",
    "print(f\"\\nThere were a total of {word_count} words in the text string.\\n\")\n"
   ]
  },
  {
   "cell_type": "code",
   "execution_count": null,
   "metadata": {},
   "outputs": [],
   "source": []
  }
 ],
 "metadata": {
  "kernelspec": {
   "display_name": "Python 3",
   "language": "python",
   "name": "python3"
  },
  "language_info": {
   "codemirror_mode": {
    "name": "ipython",
    "version": 3
   },
   "file_extension": ".py",
   "mimetype": "text/x-python",
   "name": "python",
   "nbconvert_exporter": "python",
   "pygments_lexer": "ipython3",
   "version": "3.8.8"
  }
 },
 "nbformat": 4,
 "nbformat_minor": 4
}
